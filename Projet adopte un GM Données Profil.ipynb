{
 "cells": [
  {
   "cell_type": "code",
   "execution_count": 58,
   "metadata": {},
   "outputs": [
    {
     "name": "stdout",
     "output_type": "stream",
     "text": [
      "Veuillez saisir votre identifiant charlotte\n",
      "Votre pseudo est créé\n"
     ]
    }
   ],
   "source": [
    "#Identifiant\n",
    "\n",
    "Fichier_profils=\"C:/Users/Lorenzo/01Informatique/01Informatique upmc/Exercices/Profil Database\" #Fichier qui stock les profils\n",
    "\n",
    "liste=[]\n",
    "\n",
    "profil_existe=True\n",
    "    \n",
    "while profil_existe==True:\n",
    "    Id=input(\"Veuillez saisir votre identifiant \")\n",
    "    f_in=open(Fichier_profils,\"r\",encoding='utf-8')\n",
    "    profil = f_in.read()\n",
    "    f_in.close()\n",
    "    \n",
    "    profil=profil.split(\"\\n\")\n",
    "    \n",
    "    for i in profil:\n",
    "        liste=i.split(\",\")\n",
    "            \n",
    "        if liste[0]==Id:\n",
    "            profil_existe=True\n",
    "            break\n",
    "        \n",
    "        else:\n",
    "            profil_existe=False\n",
    "            \n",
    "    if profil_existe==True: #Vérification si le profil existe\n",
    "        print(\"L'identifiant existe déjà, veuillez le modifier\")\n",
    "        \n",
    "f_in=open(Fichier_profils,\"a\",encoding='utf-8')\n",
    "f_in.write(Id)\n",
    "f_in.write(',')\n",
    "f_in.close()\n",
    "print('Votre pseudo est créé')"
   ]
  },
  {
   "cell_type": "code",
   "execution_count": 59,
   "metadata": {},
   "outputs": [
    {
     "name": "stdout",
     "output_type": "stream",
     "text": [
      "Veuillez entrer votre date de naissance: JJ/MM/YYYY -> 22/02/1997\n",
      "Vous avez 21 ans\n"
     ]
    }
   ],
   "source": [
    "#Date de naissance\n",
    "\n",
    "age=0\n",
    "  \n",
    "date=input(\"Veuillez entrer votre date de naissance: JJ/MM/YYYY -> \")\n",
    "liste=date.split(\"/\")\n",
    "\n",
    "import datetime #Permet de récupérer la date du jour\n",
    "today=datetime.date.today()\n",
    "    \n",
    "liste_today=str(today).split(\"-\")\n",
    "liste_today.reverse()\n",
    "\n",
    "age=int(liste_today[2])-int(liste[2])\n",
    "\n",
    "if (int(liste_today[1])-int(liste[1]))<0:\n",
    "    age=age-1\n",
    "\n",
    "if (int(liste_today[1])-int(liste[1]))==0:\n",
    "    if (int(liste_today[0])-int(liste[0]))<0:\n",
    "        age=age-1\n",
    "\n",
    "#Validité de l'age: compris dans l'intervalle [18 ans;100 ans]\n",
    "print('Vous avez {} ans'.format(age))\n",
    "\n",
    "if age<18:print(\"Vous devez être majeur pour vous inscrire\")\n",
    "\n",
    "if age>100:print(\"Il est sans doute trop tard pour vous ...\")"
   ]
  },
  {
   "cell_type": "code",
   "execution_count": 60,
   "metadata": {},
   "outputs": [
    {
     "name": "stdout",
     "output_type": "stream",
     "text": [
      "Voici les différents genres possible : \n",
      " \n",
      "1. Hommes\n",
      "2. Femmes\n",
      "3. Autre\n",
      "4. Peu importe\n",
      "Indiquez un numéro correspondant à votre genre: 2\n",
      "Vous avez choisi le genre : Femmes \n"
     ]
    }
   ],
   "source": [
    "#Genre\n",
    "\n",
    "genre_dic = {'Hommes' : 1, 'Femmes' : 2, 'Autre' : 3, 'Peu importe' : 4}\n",
    "genre_dic_inverses = {}\n",
    "#Dictionnaire des genres inversés\n",
    "\n",
    "for (genre_, chiffre) in genre_dic.items():\n",
    "    genre_dic_inverses[chiffre] = genre_\n",
    "    \n",
    "print('Voici les différents genres possible : \\n ')\n",
    "\n",
    "for i in range(1,len(genre_dic_inverses) + 1):\n",
    "    print('{}. {}'.format(i, genre_dic_inverses[i]))\n",
    "    \n",
    "genre = int(input('Indiquez un numéro correspondant à votre genre: '))\n",
    "print('Vous avez choisi le genre : {} '.format(genre_dic_inverses[genre]))"
   ]
  },
  {
   "cell_type": "code",
   "execution_count": 61,
   "metadata": {},
   "outputs": [
    {
     "name": "stdout",
     "output_type": "stream",
     "text": [
      "Voici les différents signes astrologiques possible : \n",
      " \n",
      "1. BELIER\n",
      "2. TAUREAU\n",
      "3. GEMEAUX\n",
      "4. CANCER\n",
      "5. LION\n",
      "6. VIERGE\n",
      "7. BALANCE\n",
      "8. SCORPION\n",
      "9. SAGITAIRE\n",
      "10. CAPRICORNE\n",
      "11. VERSEAU\n",
      "12. POISSON\n",
      "Indiquez un numéro correspondant à votre signe astrologique : 11\n",
      "Votre signe astrologique est : VERSEAU \n"
     ]
    }
   ],
   "source": [
    "#Signe Astro\n",
    "\n",
    "signe_dic = {'BELIER' : 1, 'TAUREAU' : 2, 'GEMEAUX' : 3, 'CANCER' : 4, 'LION' : 5, 'VIERGE' : 6, 'BALANCE' : 7, 'SCORPION' : 8, 'SAGITAIRE' : 9, 'CAPRICORNE' : 10, 'VERSEAU' : 11, 'POISSON' : 12}\n",
    "signe_dic_inverses = {}\n",
    "#Dictionnaire des signes astrologiques inversés\n",
    "\n",
    "for (signe, chiffre) in signe_dic.items():\n",
    "    signe_dic_inverses[chiffre] = signe\n",
    "    \n",
    "print('Voici les différents signes astrologiques possible : \\n ')\n",
    "\n",
    "for i in range(1,len(signe_dic_inverses) + 1):\n",
    "    print('{}. {}'.format(i, signe_dic_inverses[i]))\n",
    "    \n",
    "signe = int(input('Indiquez un numéro correspondant à votre signe astrologique : '))\n",
    "print('Votre signe astrologique est : {} '.format(signe_dic_inverses[signe]))"
   ]
  },
  {
   "cell_type": "code",
   "execution_count": 62,
   "metadata": {},
   "outputs": [
    {
     "name": "stdout",
     "output_type": "stream",
     "text": [
      "Voici les différentes tranches de tailles possible : \n",
      " \n",
      "1. moins d'1m50\n",
      "2. entre 1m50 et 1m60 exclus\n",
      "3. entre 1m60 et 1m70 exclus\n",
      "4. entre 1m70 et 1m80 exclus\n",
      "5. entre 1m80 et 1m90 exclus\n",
      "6. 1m90 ou plus\n",
      "Indiquez un numéro correspondant à votre tranche de mesure : 5\n",
      "Vous mesurez entre 1m80 et 1m90 exclus \n"
     ]
    }
   ],
   "source": [
    "#taille\n",
    "\n",
    "taille_dic = {'moins d\\'1m50' : 1, 'entre 1m50 et 1m60 exclus' : 2, 'entre 1m60 et 1m70 exclus' : 3, 'entre 1m70 et 1m80 exclus' : 4, 'entre 1m80 et 1m90 exclus' : 5, '1m90 ou plus' : 6}\n",
    "taille_dic_inverses = {}\n",
    "#Dictionnaire des tailles inversées\n",
    "\n",
    "for (taille, chiffre) in taille_dic.items():\n",
    "    taille_dic_inverses[chiffre] = taille\n",
    "    \n",
    "print('Voici les différentes tranches de tailles possible : \\n ')\n",
    "\n",
    "for i in range(1,len(taille_dic_inverses) + 1):\n",
    "    print('{}. {}'.format(i, taille_dic_inverses[i]))\n",
    "    \n",
    "taille = int(input('Indiquez un numéro correspondant à votre tranche de mesure : '))\n",
    "print('Vous mesurez {} '.format(taille_dic_inverses[taille]))"
   ]
  },
  {
   "cell_type": "code",
   "execution_count": 63,
   "metadata": {},
   "outputs": [
    {
     "name": "stdout",
     "output_type": "stream",
     "text": [
      "Voici les différentes couleurs de cheveux possible : \n",
      " \n",
      "1. Noirs\n",
      "2. Châtains\n",
      "3. Blonds\n",
      "4. Roux\n",
      "5. Gris\n",
      "6. Blancs\n",
      "Indiquez un numéro correspondant à votre couleur de cheveux : 6\n",
      "Vous avez choisi la couleur : Blancs \n"
     ]
    }
   ],
   "source": [
    "#Couleur des cheveux\n",
    "\n",
    "couleur_cheveux = {'Noirs' : 1, 'Châtains' : 2, 'Blonds' : 3, 'Roux' : 4, 'Gris' : 5, 'Blancs' : 6}\n",
    "couleur_cheveux_inverses = {}\n",
    "#Dictionnaire des couleurs de cheveux inversées\n",
    "\n",
    "for (couleur, chiffre) in couleur_cheveux.items():\n",
    "    couleur_cheveux_inverses[chiffre] = couleur\n",
    "    \n",
    "print('Voici les différentes couleurs de cheveux possible : \\n ')\n",
    "\n",
    "for i in range(1,len(couleur_cheveux_inverses) + 1):\n",
    "    print('{}. {}'.format(i, couleur_cheveux_inverses[i]))\n",
    "    \n",
    "cheveux = int(input('Indiquez un numéro correspondant à votre couleur de cheveux : '))\n",
    "print('Vous avez choisi la couleur : {} '.format(couleur_cheveux_inverses[cheveux]))"
   ]
  },
  {
   "cell_type": "code",
   "execution_count": 64,
   "metadata": {},
   "outputs": [
    {
     "name": "stdout",
     "output_type": "stream",
     "text": [
      "Voici les différentes couleurs de yeux possible : \n",
      " \n",
      "1. Noirs\n",
      "2. Marrons\n",
      "3. Verts\n",
      "4. Bleus\n",
      "5. Gris\n",
      "Indiquez un numéro correspondant à votre couleur de yeux : 2\n",
      "Vous avez choisi la couleur : Marrons \n"
     ]
    }
   ],
   "source": [
    "#Couleur des yeux\n",
    "\n",
    "couleur_yeux = {'Noirs' : 1, 'Marrons' : 2, 'Verts' : 3, 'Bleus' : 4, 'Gris' : 5}\n",
    "couleur_yeux_inverses = {}\n",
    "#Dictionnaire des couleurs des yeux inversées\n",
    "\n",
    "for (couleur, chiffre) in couleur_yeux.items():\n",
    "    couleur_yeux_inverses[chiffre] = couleur\n",
    "    \n",
    "print('Voici les différentes couleurs de yeux possible : \\n ')\n",
    "\n",
    "for i in range(1,len(couleur_yeux_inverses) + 1):\n",
    "    print('{}. {}'.format(i, couleur_yeux_inverses[i]))\n",
    "    \n",
    "yeux = int(input('Indiquez un numéro correspondant à votre couleur de yeux : '))\n",
    "print('Vous avez choisi la couleur : {} '.format(couleur_yeux_inverses[yeux]))"
   ]
  },
  {
   "cell_type": "code",
   "execution_count": 65,
   "metadata": {
    "scrolled": true
   },
   "outputs": [
    {
     "name": "stdout",
     "output_type": "stream",
     "text": [
      "Voici les différents genres possible : \n",
      " \n",
      "1. Hommes\n",
      "2. Femmes\n",
      "3. Autre\n",
      "4. Peu importe\n",
      "Indiquez un numéro correspondant au genre que vous recherchez : 1\n",
      "Vous avez choisi le genre : Hommes \n"
     ]
    }
   ],
   "source": [
    "#Genre recherché\n",
    "\n",
    "print('Voici les différents genres possible : \\n ')\n",
    "\n",
    "for i in range(1,len(genre_dic_inverses) + 1):\n",
    "    print('{}. {}'.format(i, genre_dic_inverses[i]))\n",
    "    \n",
    "genre_r = int(input('Indiquez un numéro correspondant au genre que vous recherchez : '))\n",
    "print('Vous avez choisi le genre : {} '.format(genre_dic_inverses[genre_r]))"
   ]
  },
  {
   "cell_type": "code",
   "execution_count": 66,
   "metadata": {},
   "outputs": [
    {
     "name": "stdout",
     "output_type": "stream",
     "text": [
      "Voici les différentes tranches d'âges : \n",
      " \n",
      "1. Entre 18 et 22ans exclu\n",
      "2. Entre 22 et 26ans exclu\n",
      "3. Entre 26 et 30ans exclu\n",
      "4. Entre 30 et 34ans exclu\n",
      "5. Entre 34 et 38ans exclu\n",
      "6. 38 ans ou plus\n",
      "7. Peu importe..\n",
      "Indiquez un numéro correspondant à la tranche d'âge que vous recherchez : 4\n",
      "Age recherché : Entre 30 et 34ans exclu \n"
     ]
    }
   ],
   "source": [
    "#Age recherché\n",
    "\n",
    "age_recherché = {'Entre 18 et 22ans exclu' : 1, 'Entre 22 et 26ans exclu' : 2, 'Entre 26 et 30ans exclu' : 3, 'Entre 30 et 34ans exclu' : 4, 'Entre 34 et 38ans exclu' : 5, '38 ans ou plus' : 6, 'Peu importe..' : 7}\n",
    "age_recherché_inverses = {}\n",
    "#Dictionnaire des ages recherchés inversés\n",
    "\n",
    "for (age, chiffre) in age_recherché.items():\n",
    "    age_recherché_inverses[chiffre] = age\n",
    "    \n",
    "print('Voici les différentes tranches d\\'âges : \\n ')\n",
    "\n",
    "for i in range(1,len(age_recherché_inverses) + 1):\n",
    "    print('{}. {}'.format(i, age_recherché_inverses[i]))\n",
    "    \n",
    "age_r = int(input('Indiquez un numéro correspondant à la tranche d\\'âge que vous recherchez : '))\n",
    "print('Age recherché : {} '.format(age_recherché_inverses[age_r]))\n"
   ]
  },
  {
   "cell_type": "code",
   "execution_count": 67,
   "metadata": {},
   "outputs": [
    {
     "name": "stdout",
     "output_type": "stream",
     "text": [
      "Voici les différentes tranches de tailles possible : \n",
      " \n",
      "1. moins d'1m50\n",
      "2. entre 1m50 et 1m60 exclus\n",
      "3. entre 1m60 et 1m70 exclus\n",
      "4. entre 1m70 et 1m80 exclus\n",
      "5. entre 1m80 et 1m90 exclus\n",
      "6. 1m90 ou plus\n",
      "Indiquez un numéro correspondant à la taille que vous recherchez : 5\n",
      "Vous recherchez quelqu'un qui mesure entre 1m80 et 1m90 exclus \n"
     ]
    }
   ],
   "source": [
    "#Taille recherchée\n",
    "\n",
    "print('Voici les différentes tranches de tailles possible : \\n ')\n",
    "\n",
    "for i in range(1,len(taille_dic_inverses) + 1):\n",
    "    print('{}. {}'.format(i, taille_dic_inverses[i]))\n",
    "    \n",
    "taille_r = int(input('Indiquez un numéro correspondant à la taille que vous recherchez : '))\n",
    "print('Vous recherchez quelqu\\'un qui mesure {} '.format(taille_dic_inverses[taille_r]))"
   ]
  },
  {
   "cell_type": "code",
   "execution_count": 68,
   "metadata": {},
   "outputs": [
    {
     "name": "stdout",
     "output_type": "stream",
     "text": [
      "Voici les différentes couleurs de cheveux possible : \n",
      " \n",
      "1. Noirs\n",
      "2. Châtains\n",
      "3. Blonds\n",
      "4. Roux\n",
      "5. Gris\n",
      "6. Blancs\n",
      "Indiquez un numéro correspondant à la couleur de cheveux que vous recherchez : 1\n",
      "Vous avez choisi la couleur : Noirs \n"
     ]
    }
   ],
   "source": [
    "#Couleur des cheveux recherchée\n",
    "\n",
    "print('Voici les différentes couleurs de cheveux possible : \\n ')\n",
    "\n",
    "for i in range(1,len(couleur_cheveux_inverses) + 1):\n",
    "    print('{}. {}'.format(i, couleur_cheveux_inverses[i]))\n",
    "    \n",
    "cheveux_r = int(input('Indiquez un numéro correspondant à la couleur de cheveux que vous recherchez : '))\n",
    "print('Vous avez choisi la couleur : {} '.format(couleur_cheveux_inverses[cheveux_r]))"
   ]
  },
  {
   "cell_type": "code",
   "execution_count": 69,
   "metadata": {},
   "outputs": [
    {
     "name": "stdout",
     "output_type": "stream",
     "text": [
      "Voici les différentes couleurs de yeux possible : \n",
      " \n",
      "1. Noirs\n",
      "2. Marrons\n",
      "3. Verts\n",
      "4. Bleus\n",
      "5. Gris\n",
      "Indiquez un numéro correspondant à la couleur des yeux que vous recherchez : 1\n",
      "Vous avez choisi la couleur : Noirs \n"
     ]
    }
   ],
   "source": [
    "#Couleur des yeux recherchée\n",
    "\n",
    "print('Voici les différentes couleurs de yeux possible : \\n ')\n",
    "\n",
    "for i in range(1,len(couleur_yeux_inverses) + 1):\n",
    "    print('{}. {}'.format(i, couleur_yeux_inverses[i]))\n",
    "    \n",
    "yeux_r = int(input('Indiquez un numéro correspondant à la couleur des yeux que vous recherchez : '))\n",
    "print('Vous avez choisi la couleur : {} '.format(couleur_yeux_inverses[yeux_r]))"
   ]
  },
  {
   "cell_type": "code",
   "execution_count": 70,
   "metadata": {},
   "outputs": [
    {
     "name": "stdout",
     "output_type": "stream",
     "text": [
      "Veuillez répondre aux questions suivantes sur une échelle de 0 (je déteste) à 5 (j'adore )\n",
      "\n",
      "Aimez-vous les animaux ? -> 5\n",
      "Aimez-vous les voyages ? -> 4\n",
      "Aimez-vous Emmanuel Macron ? -> 5\n",
      "Aimez-vous Game of Thrones ? -> 2\n",
      "Aimez-vous cuisiner ? -> 5\n",
      "Aimez-vous les jeux de société ? -> 1\n",
      "Aimez-vous les enfants ? -> 4\n",
      "Aimez-vous programmer en python ? -> 5\n",
      "Aimez-vous la viande ? -> 2\n",
      "Aimez-vous l'argent ? -> 0\n"
     ]
    }
   ],
   "source": [
    "#Questions\n",
    "\n",
    "print('Veuillez répondre aux questions suivantes sur une échelle de 0 (je déteste) à 5 (j\\'adore )\\n')\n",
    "\n",
    "Q1=input('Aimez-vous les animaux ? -> ')\n",
    "Q2=input('Aimez-vous les voyages ? -> ')\n",
    "Q3=input('Aimez-vous Emmanuel Macron ? -> ')\n",
    "Q4=input('Aimez-vous Game of Thrones ? -> ')\n",
    "Q5=input('Aimez-vous cuisiner ? -> ')\n",
    "Q6=input('Aimez-vous les jeux de société ? -> ')\n",
    "Q7=input('Aimez-vous les enfants ? -> ')\n",
    "Q8=input('Aimez-vous programmer en python ? -> ')\n",
    "Q9=input('Aimez-vous la viande ? -> ')\n",
    "Q10=input('Aimez-vous l\\'argent ? -> ')"
   ]
  },
  {
   "cell_type": "code",
   "execution_count": 71,
   "metadata": {},
   "outputs": [
    {
     "name": "stdout",
     "output_type": "stream",
     "text": [
      "Votre profil a été créé\n"
     ]
    }
   ],
   "source": [
    "#Création de l'identifiant prêt pour écriture dans le fichier texte\n",
    "\n",
    "liste_id = []\n",
    "\n",
    "\n",
    "#liste_id.append(str(Id))\n",
    "liste_id.append(str(date))\n",
    "liste_id.append(str(genre))\n",
    "liste_id.append(str(signe))\n",
    "liste_id.append(str(taille))\n",
    "liste_id.append(str(cheveux))\n",
    "liste_id.append(str(yeux))\n",
    "liste_id.append(str(genre_r))\n",
    "liste_id.append(str(age_r))\n",
    "liste_id.append(str(taille_r))\n",
    "liste_id.append(str(cheveux_r))\n",
    "liste_id.append(str(yeux_r))\n",
    "liste_id.append(str(Q1))\n",
    "liste_id.append(str(Q2))\n",
    "liste_id.append(str(Q3))\n",
    "liste_id.append(str(Q4))\n",
    "liste_id.append(str(Q5))\n",
    "liste_id.append(str(Q6))\n",
    "liste_id.append(str(Q7))\n",
    "liste_id.append(str(Q8))\n",
    "liste_id.append(str(Q9))\n",
    "liste_id.append(str(Q10))\n",
    "\n",
    "\n",
    "imprim = ','.join(liste_id)\n",
    "#print(liste_id)\n",
    "\n",
    "nom_fichier = \"C:\\\\Users\\\\Lorenzo\\\\01Informatique\\\\01Informatique upmc\\\\Exercices\\Profil Database\"\n",
    "file = open(nom_fichier, 'a', encoding='utf-8')\n",
    "file.write(imprim)\n",
    "file.write('\\n')\n",
    "file.close()\n",
    "\n",
    "print('Votre profil a été créé')"
   ]
  },
  {
   "cell_type": "code",
   "execution_count": 17,
   "metadata": {},
   "outputs": [
    {
     "name": "stdout",
     "output_type": "stream",
     "text": [
      "Voulez-vous consulter des profils ? oui\n",
      "Quel profil en particulier ? titi\n",
      "Cet utilisateur est un/e Hommes né le 22/06/1994, de signe CANCER, mesurant entre 1m60 et 1m70 exclus, Noirs aux yeux Verts, recherchant un/e Femmes Entre 22 et 26ans exclu, entre 1m60 et 1m70 exclus avec des cheveux Roux aux yeux Noirs, ayant répondu 3, 5, 5, 5, 5, 5, 5, 5, 5 et 5 aux 10 questions posés\n"
     ]
    }
   ],
   "source": [
    "#Affichage profil\n",
    "\n",
    "genre_dic = {'Hommes' : 1, 'Femmes' : 2, 'Autre' : 3, 'Peu importe' : 4}\n",
    "signe_dic = {'BELIER' : 1, 'TAUREAU' : 2, 'GEMEAUX' : 3, 'CANCER' : 4, 'LION' : 5, 'VIERGE' : 6, 'BALANCE' : 7, 'SCORPION' : 8, 'SAGITAIRE' : 9, 'CAPRICORNE' : 10, 'VERSEAU' : 11, 'POISSON' : 12}\n",
    "taille_dic = {'moins d\\'1m50' : 1, 'entre 1m50 et 1m60 exclus' : 2, 'entre 1m60 et 1m70 exclus' : 3, 'entre 1m70 et 1m80 exclus' : 4, 'entre 1m80 et 1m90 exclus' : 5, '1m90 ou plus' : 6}\n",
    "couleur_cheveux = {'Noirs' : 1, 'Châtains' : 2, 'Blonds' : 3, 'Roux' : 4, 'Gris' : 5, 'Blancs' : 6}\n",
    "couleur_yeux = {'Noirs' : 1, 'Marrons' : 2, 'Verts' : 3, 'Bleus' : 4, 'Gris' : 5}\n",
    "age_recherché = {'Entre 18 et 22ans exclu' : 1, 'Entre 22 et 26ans exclu' : 2, 'Entre 26 et 30ans exclu' : 3, 'Entre 30 et 34ans exclu' : 4, 'Entre 34 et 38ans exclu' : 5, '38 ans ou plus' : 6, 'Peu importe..' : 7}\n",
    "\n",
    "liste2 = [] #Liste qui contient les attributs récupérés\n",
    "\n",
    "liste_attribut = [genre_dic, signe_dic, taille_dic, couleur_cheveux, couleur_yeux, genre_dic, age_recherché, taille_dic, couleur_cheveux, couleur_yeux]\n",
    "\n",
    "i = 0\n",
    "\n",
    "\n",
    "nom_fichier = \"C:\\\\Users\\\\Lorenzo\\\\01Informatique\\\\01Informatique upmc\\\\Exercices\\Profil Database\"\n",
    "\n",
    "\n",
    "demande_profil = (input('Quel profil en particulier ? ')).lower()\n",
    "affichage = open(nom_fichier,\"r\", encoding = 'utf-8') \n",
    "for ligne in affichage: \n",
    "    if demande_profil in ligne:\n",
    "        ligne = ligne.rstrip()\n",
    "        liste_affichage = ligne.split(',')\n",
    "affichage.close()\n",
    "    \n",
    "date_de_naissance = liste_affichage[1]\n",
    "liste_affichage_ = liste_affichage[2:]\n",
    "    \n",
    "for elem in liste_attribut:\n",
    "    for (attribut, cle) in elem.items():\n",
    "        if cle == int(liste_affichage_[i]):\n",
    "            liste2.append(str(attribut))\n",
    "    i = i + 1\n",
    "    \n",
    "print('Cet utilisateur est un/e {} né le {}, de signe {}, mesurant {}, cheveux {} aux yeux {}, recherchant un/e {} {}, {} avec des cheveux {} aux yeux {}, ayant répondu {}, {}, {}, {}, {}, {}, {}, {}, {} et {} aux 10 questions posés'.format(liste2[0], date_de_naissance, liste2[1], liste2[2], liste2[3], liste2[4], liste2[5], liste2[6], liste2[7], liste2[8], liste2[9], liste_affichage_[10], liste_affichage_[11], liste_affichage_[12], liste_affichage_[13], liste_affichage_[14], liste_affichage_[15], liste_affichage_[16], liste_affichage_[17], liste_affichage_[18], liste_affichage_[19])) "
   ]
  },
  {
   "cell_type": "code",
   "execution_count": 15,
   "metadata": {},
   "outputs": [
    {
     "name": "stdout",
     "output_type": "stream",
     "text": [
      "Quel profil souhaitez-vous supprimer ? ouigo\n",
      "Le profil a bien été supprimé\n"
     ]
    }
   ],
   "source": [
    "#Suppression d'un profil\n",
    "\n",
    "nom_fichier = \"C:\\\\Users\\\\Lorenzo\\\\01Informatique\\\\01Informatique upmc\\\\Exercices\\Profil Database\"\n",
    "contenu = \"\"\n",
    "suppr_profil = (input('Quel profil souhaitez-vous supprimer ? ')).lower()\n",
    "affichage_supp = open(nom_fichier,\"r\", encoding = 'utf-8') \n",
    "for ligne in affichage_supp: \n",
    "    if suppr_profil not in ligne:\n",
    "        contenu += ligne\n",
    "affichage_supp.close()\n",
    "recopie = open(nom_fichier, 'w', encoding = 'utf-8')\n",
    "recopie.write(contenu)\n",
    "\n",
    "recopie.close()\n",
    "print('Le profil a bien été supprimé')"
   ]
  },
  {
   "cell_type": "code",
   "execution_count": null,
   "metadata": {},
   "outputs": [],
   "source": []
  }
 ],
 "metadata": {
  "kernelspec": {
   "display_name": "Python 3",
   "language": "python",
   "name": "python3"
  },
  "language_info": {
   "codemirror_mode": {
    "name": "ipython",
    "version": 3
   },
   "file_extension": ".py",
   "mimetype": "text/x-python",
   "name": "python",
   "nbconvert_exporter": "python",
   "pygments_lexer": "ipython3",
   "version": "3.6.4"
  }
 },
 "nbformat": 4,
 "nbformat_minor": 2
}
